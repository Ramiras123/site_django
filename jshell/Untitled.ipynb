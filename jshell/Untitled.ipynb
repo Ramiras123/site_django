{
 "cells": [
  {
   "cell_type": "code",
   "execution_count": 1,
   "id": "4a8c11b1",
   "metadata": {},
   "outputs": [],
   "source": [
    "from forms_app.forms import ContactForm\n",
    "from datetime import date"
   ]
  },
  {
   "cell_type": "code",
   "execution_count": 24,
   "id": "6179c1ee",
   "metadata": {},
   "outputs": [],
   "source": [
    "data = {'message':\"dasd\",\n",
    "       'sender': 'dasda@mail.com',\n",
    "       'subject':'dasdsa',\n",
    "        'date_creation': ''\n",
    "       }"
   ]
  },
  {
   "cell_type": "code",
   "execution_count": 10,
   "id": "4fd397f2",
   "metadata": {},
   "outputs": [
    {
     "name": "stdout",
     "output_type": "stream",
     "text": [
      "<tr>\n",
      "    <th><label for=\"id_subject\">Subject:</label></th>\n",
      "    <td>\n",
      "      \n",
      "      <input type=\"text\" name=\"subject\" value=\"dasdsa\" maxlength=\"100\" required id=\"id_subject\">\n",
      "      \n",
      "      \n",
      "    </td>\n",
      "  </tr>\n",
      "\n",
      "  <tr>\n",
      "    <th><label for=\"id_message\">Message:</label></th>\n",
      "    <td>\n",
      "      \n",
      "      <input type=\"text\" name=\"message\" value=\"dasd\" maxlength=\"500\" required id=\"id_message\">\n",
      "      \n",
      "      \n",
      "    </td>\n",
      "  </tr>\n",
      "\n",
      "  <tr>\n",
      "    <th><label for=\"id_sender\">Sender:</label></th>\n",
      "    <td>\n",
      "      \n",
      "      <input type=\"email\" name=\"sender\" value=\"dasda@mail.com\" required id=\"id_sender\">\n",
      "      \n",
      "      \n",
      "    </td>\n",
      "  </tr>\n",
      "\n",
      "  <tr>\n",
      "    <th><label for=\"id_cc_myself\">Cc myself:</label></th>\n",
      "    <td>\n",
      "      \n",
      "      <input type=\"checkbox\" name=\"cc_myself\" id=\"id_cc_myself\">\n",
      "      \n",
      "      \n",
      "    </td>\n",
      "  </tr>\n",
      "\n",
      "  <tr>\n",
      "    <th><label for=\"id_date_creation\">Date creation:</label></th>\n",
      "    <td>\n",
      "      \n",
      "      <input type=\"text\" name=\"date_creation\" value=\"2023-2-10\" id=\"id_date_creation\">\n",
      "      \n",
      "      \n",
      "        \n",
      "      \n",
      "    </td>\n",
      "  </tr>\n"
     ]
    }
   ],
   "source": [
    "f = ContactForm(data)\n",
    "print(f)"
   ]
  },
  {
   "cell_type": "code",
   "execution_count": 11,
   "id": "3763989c",
   "metadata": {},
   "outputs": [
    {
     "data": {
      "text/plain": [
       "True"
      ]
     },
     "execution_count": 11,
     "metadata": {},
     "output_type": "execute_result"
    }
   ],
   "source": [
    "f.is_valid()"
   ]
  },
  {
   "cell_type": "code",
   "execution_count": 12,
   "id": "bd0c9dd1",
   "metadata": {},
   "outputs": [
    {
     "data": {
      "text/plain": [
       "{}"
      ]
     },
     "execution_count": 12,
     "metadata": {},
     "output_type": "execute_result"
    }
   ],
   "source": [
    "f.errors"
   ]
  },
  {
   "cell_type": "code",
   "execution_count": 13,
   "id": "fb449843",
   "metadata": {},
   "outputs": [],
   "source": [
    "from datetime import date, timedelta"
   ]
  },
  {
   "cell_type": "code",
   "execution_count": 15,
   "id": "51e63fbd",
   "metadata": {},
   "outputs": [],
   "source": [
    "from django import forms"
   ]
  },
  {
   "cell_type": "code",
   "execution_count": 27,
   "id": "55539ed7",
   "metadata": {},
   "outputs": [],
   "source": [
    "class ContactForm(forms.Form):\n",
    "    subject = forms.CharField(max_length=100,required=False)\n",
    "    message = forms.CharField(max_length=500,required=False)\n",
    "    sender = forms.EmailField(required=False)\n",
    "    cc_myself = forms.BooleanField(required=False)\n",
    "    date_creation = forms.DateField(initial=date.today,\n",
    "                                    required=False)\n",
    "\n",
    "    def clean_date_creation(self):\n",
    "        date_new = self.cleaned_data['date_creation']\n",
    "        if not date_new:\n",
    "            raise forms.ValidationError('Формы нет')\n",
    "        if date_new < date.today():\n",
    "            raise forms.ValidationError('Форма не действительная')\n"
   ]
  },
  {
   "cell_type": "code",
   "execution_count": 30,
   "id": "c76f20ae",
   "metadata": {},
   "outputs": [
    {
     "name": "stdout",
     "output_type": "stream",
     "text": [
      "<tr>\n",
      "    <th><label for=\"id_subject\">Subject:</label></th>\n",
      "    <td>\n",
      "      \n",
      "      <input type=\"text\" name=\"subject\" maxlength=\"100\" id=\"id_subject\">\n",
      "      \n",
      "      \n",
      "    </td>\n",
      "  </tr>\n",
      "\n",
      "  <tr>\n",
      "    <th><label for=\"id_message\">Message:</label></th>\n",
      "    <td>\n",
      "      \n",
      "      <input type=\"text\" name=\"message\" value=\"dasd\" maxlength=\"500\" id=\"id_message\">\n",
      "      \n",
      "      \n",
      "    </td>\n",
      "  </tr>\n",
      "\n",
      "  <tr>\n",
      "    <th><label for=\"id_sender\">Sender:</label></th>\n",
      "    <td>\n",
      "      \n",
      "      <input type=\"email\" name=\"sender\" id=\"id_sender\">\n",
      "      \n",
      "      \n",
      "    </td>\n",
      "  </tr>\n",
      "\n",
      "  <tr>\n",
      "    <th><label for=\"id_cc_myself\">Cc myself:</label></th>\n",
      "    <td>\n",
      "      \n",
      "      <input type=\"checkbox\" name=\"cc_myself\" id=\"id_cc_myself\">\n",
      "      \n",
      "      \n",
      "    </td>\n",
      "  </tr>\n",
      "\n",
      "  <tr>\n",
      "    <th><label for=\"id_date_creation\">Date creation:</label></th>\n",
      "    <td>\n",
      "      <ul class=\"errorlist\"><li>Формы нет</li></ul>\n",
      "      <input type=\"text\" name=\"date_creation\" id=\"id_date_creation\">\n",
      "      \n",
      "      \n",
      "        \n",
      "      \n",
      "    </td>\n",
      "  </tr>\n"
     ]
    }
   ],
   "source": [
    "print(ContactForm())"
   ]
  },
  {
   "cell_type": "code",
   "execution_count": null,
   "id": "e17b023a",
   "metadata": {},
   "outputs": [],
   "source": []
  }
 ],
 "metadata": {
  "kernelspec": {
   "display_name": "Django Shell-Plus",
   "language": "python",
   "name": "django_extensions"
  },
  "language_info": {
   "codemirror_mode": {
    "name": "ipython",
    "version": 3
   },
   "file_extension": ".py",
   "mimetype": "text/x-python",
   "name": "python",
   "nbconvert_exporter": "python",
   "pygments_lexer": "ipython3",
   "version": "3.9.5"
  }
 },
 "nbformat": 4,
 "nbformat_minor": 5
}
